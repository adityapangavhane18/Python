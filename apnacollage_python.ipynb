{
 "cells": [
  {
   "cell_type": "code",
   "execution_count": 1,
   "id": "fa479c6f-35db-44cf-8ad6-e5b1f4c56fb1",
   "metadata": {},
   "outputs": [
    {
     "name": "stdin",
     "output_type": "stream",
     "text": [
      "name :  Pangavhane Aditya Anil\n",
      "age :  19\n",
      "price :  1000.0\n"
     ]
    },
    {
     "name": "stdout",
     "output_type": "stream",
     "text": [
      "My name is Pangavhane Aditya Anil and I am  19 years old \n"
     ]
    }
   ],
   "source": [
    "#taking the input from the user\n",
    "name = input(\"name : \")\n",
    "#int input \n",
    "age = int(input(\"age : \"))\n",
    "#float input\n",
    "price = float(input(\"price : \"))\n",
    "print(\"My name is\",name,\"and I am \",age,\"years old \")"
   ]
  },
  {
   "cell_type": "code",
   "execution_count": 1,
   "id": "98459aaf-9d48-4b51-83d1-b1c8e3afbc52",
   "metadata": {},
   "outputs": [
    {
     "name": "stdin",
     "output_type": "stream",
     "text": [
      "light :  red\n"
     ]
    },
    {
     "name": "stdout",
     "output_type": "stream",
     "text": [
      "Stop\n"
     ]
    }
   ],
   "source": [
    "#Conditional Statements\n",
    "light =input(\"light : \")\n",
    "if(light == \"red\"):\n",
    "    print(\"Stop\")\n",
    "elif(light == \"yellow : \"):\n",
    "    print(\"look\")\n",
    "elif(light == \"green : \"):\n",
    "    print(\"go\")\n",
    "else:\n",
    "    print(\"Signal is broken \")"
   ]
  },
  {
   "cell_type": "code",
   "execution_count": 5,
   "id": "ed811c23-f5c5-4a46-97e8-d9985f136cfb",
   "metadata": {},
   "outputs": [
    {
     "name": "stdin",
     "output_type": "stream",
     "text": [
      "P :  7\n",
      "R :  1\n",
      "T :  4\n"
     ]
    },
    {
     "name": "stdout",
     "output_type": "stream",
     "text": [
      "The simple interest is :  0.28\n"
     ]
    }
   ],
   "source": [
    "#calculate simple interest \n",
    "p = float(input(\"P : \"))\n",
    "r = float(input(\"R : \"))\n",
    "t = float(input(\"T : \"))\n",
    "si = (p*r*t) / 100\n",
    "print(\"The simple interest is : \",si)"
   ]
  },
  {
   "cell_type": "code",
   "execution_count": 1,
   "id": "55538474-940a-48f0-8f53-ce7a659e04ab",
   "metadata": {},
   "outputs": [
    {
     "name": "stdout",
     "output_type": "stream",
     "text": [
      "7\n",
      "1\n",
      "25\n"
     ]
    }
   ],
   "source": [
    "#arithmetic operators \n",
    "a = 5\n",
    "b = 2\n",
    "print(a + b)\n",
    "print(a % b)  #reminder\n",
    "print(a ** b) #power"
   ]
  },
  {
   "cell_type": "code",
   "execution_count": 5,
   "id": "ab4f7112-b1ce-46a4-aba0-40f5f69a6ce6",
   "metadata": {},
   "outputs": [
    {
     "name": "stdout",
     "output_type": "stream",
     "text": [
      "False\n",
      "True\n",
      "True\n"
     ]
    }
   ],
   "source": [
    "#relational operators\n",
    "a = 50\n",
    "b = 20\n",
    "print (a==b)\n",
    "print (a!=b)\n",
    "print (a>=b)\n"
   ]
  },
  {
   "cell_type": "code",
   "execution_count": 1,
   "id": "5b3c466a-7e99-46b1-906e-1dec50183141",
   "metadata": {},
   "outputs": [
    {
     "name": "stdout",
     "output_type": "stream",
     "text": [
      "False\n",
      "True\n",
      "AND Operator :  False\n",
      "OR Operator :  True\n"
     ]
    }
   ],
   "source": [
    "#logical operators \n",
    "print (not True)\n",
    "print (not False)\n",
    "val1 = True \n",
    "val2 = False\n",
    "print (\"AND Operator : \", val1 and val2 )\n",
    "print (\"OR Operator : \", val1 or val2 )"
   ]
  },
  {
   "cell_type": "code",
   "execution_count": 1,
   "id": "6924b538-dedb-4cea-bf7e-578e9c215283",
   "metadata": {},
   "outputs": [
    {
     "name": "stdout",
     "output_type": "stream",
     "text": [
      "6.25\n"
     ]
    }
   ],
   "source": [
    "#type conversion (automatically) \n",
    "a = 2\n",
    "b = 4.25\n",
    "sum = a + b  # 2.0 + 4.25 = 6.25 \n",
    "print (sum) "
   ]
  },
  {
   "cell_type": "code",
   "execution_count": 5,
   "id": "12b61ed0-4155-46fa-adc2-1257afce3294",
   "metadata": {},
   "outputs": [
    {
     "name": "stdout",
     "output_type": "stream",
     "text": [
      "3\n"
     ]
    }
   ],
   "source": [
    "#type casting (manually)\n",
    "a,b = 1,\"2\"\n",
    "c =int(b)\n",
    "sum = a+c\n",
    "print (sum) "
   ]
  },
  {
   "cell_type": "code",
   "execution_count": 9,
   "id": "260fac94-b606-4715-923e-00e4126a4d45",
   "metadata": {},
   "outputs": [
    {
     "name": "stdin",
     "output_type": "stream",
     "text": [
      "Enter the number  4\n",
      "Enter the number  2\n"
     ]
    },
    {
     "name": "stdout",
     "output_type": "stream",
     "text": [
      "The addition is :  6\n"
     ]
    }
   ],
   "source": [
    "#Program to calculate the sum of two numbers\n",
    "num1 = int(input(\"Enter the number \" ))\n",
    "num2 = int(input(\"Enter the number \" ))\n",
    "sum = num1 + num2\n",
    "print(\"The addition is :\",sum)"
   ]
  },
  {
   "cell_type": "code",
   "execution_count": 11,
   "id": "35361466-2364-4f39-b203-de975c0edcaf",
   "metadata": {},
   "outputs": [
    {
     "name": "stdin",
     "output_type": "stream",
     "text": [
      "Enter the side : 5\n"
     ]
    },
    {
     "name": "stdout",
     "output_type": "stream",
     "text": [
      "The area of the square is : 25.0\n"
     ]
    }
   ],
   "source": [
    "#Program to calculate the area of square\n",
    "side = float(input(\"Enter the side :\"))\n",
    "area = side * side\n",
    "print(\"The area of the square is :\",area)"
   ]
  },
  {
   "cell_type": "code",
   "execution_count": 15,
   "id": "9fe5b376-009a-4db7-a461-4becc650662c",
   "metadata": {},
   "outputs": [
    {
     "name": "stdin",
     "output_type": "stream",
     "text": [
      "Enter the number : 4\n",
      "Enter the number : 8\n"
     ]
    },
    {
     "name": "stdout",
     "output_type": "stream",
     "text": [
      "The average of two numbers is : 6.0\n"
     ]
    }
   ],
   "source": [
    "#Program to find average of numbers \n",
    "num1 = float(input(\"Enter the number :\" ))\n",
    "num2 = float(input(\"Enter the number :\" ))\n",
    "avg = (num1 + num2)/2\n",
    "print(\"The average of two numbers is :\",avg)"
   ]
  },
  {
   "cell_type": "code",
   "execution_count": 19,
   "id": "7a547de1-750e-4937-a92d-7d5977d40a85",
   "metadata": {},
   "outputs": [
    {
     "name": "stdin",
     "output_type": "stream",
     "text": [
      "Enter the number  2\n",
      "Enter the number  6\n"
     ]
    },
    {
     "name": "stdout",
     "output_type": "stream",
     "text": [
      "False\n"
     ]
    }
   ],
   "source": [
    "\n",
    "a = int(input(\"Enter the number \" ))\n",
    "b = int(input(\"Enter the number \" ))\n",
    "if(a>=b):\n",
    "    print(\"True\")\n",
    "else:\n",
    "    print(\"False\")"
   ]
  },
  {
   "cell_type": "code",
   "execution_count": 21,
   "id": "c0b86eb2-0dad-44a6-ab7a-9af01facab19",
   "metadata": {},
   "outputs": [
    {
     "name": "stdout",
     "output_type": "stream",
     "text": [
      "This is string. \n",
      " We are learning the python. \n"
     ]
    }
   ],
   "source": [
    "str1 =\"This is string. \\n We are learning the python. \"\n",
    "print(str1)"
   ]
  },
  {
   "cell_type": "code",
   "execution_count": 39,
   "id": "0af3418e-b9bc-41f1-83e9-6dbfc59a4209",
   "metadata": {},
   "outputs": [
    {
     "name": "stdout",
     "output_type": "stream",
     "text": [
      "Aditya Pangavhane\n",
      "6\n",
      "10\n",
      "17\n"
     ]
    }
   ],
   "source": [
    "#string concatenation \n",
    "str1 = \"Aditya\"\n",
    "str2 = \"Pangavhane\"\n",
    "name = str1 +\" \"+ str2 \n",
    "print( name )\n",
    "#Calculating the length of the string\n",
    "len1 = len(str1)\n",
    "print(len1)\n",
    "\n",
    "len2 = len(str2)\n",
    "print(len2)\n",
    "\n",
    "len3= len(name)\n",
    "print(len3)"
   ]
  },
  {
   "cell_type": "code",
   "execution_count": 45,
   "id": "4eb51998-a0bc-4ae6-98c4-c677cfd46cd2",
   "metadata": {},
   "outputs": [
    {
     "name": "stdout",
     "output_type": "stream",
     "text": [
      "n\n"
     ]
    }
   ],
   "source": [
    "#indexing (start from 0,1,2...)    (Use : To access chracters)\n",
    "str =\"apna collage \"\n",
    "ch = str[2]\n",
    "print(ch)\n"
   ]
  },
  {
   "cell_type": "code",
   "execution_count": 61,
   "id": "97f07635-d85d-4e30-8284-d3dee6e72d1a",
   "metadata": {},
   "outputs": [
    {
     "name": "stdout",
     "output_type": "stream",
     "text": [
      "pna\n",
      "collage \n",
      "a collage \n",
      "apna collage \n"
     ]
    }
   ],
   "source": [
    "#Slicing (accesing the parts of the string )\n",
    "str =\"apna collage \"\n",
    "print(str[1 : 4])\n",
    "print(str[5 :])\n",
    "print(str[3 :len(str)])\n",
    "print(str[ :len(str)])\n",
    "\n"
   ]
  },
  {
   "cell_type": "code",
   "execution_count": 65,
   "id": "535e9202-950f-481c-a376-6e2c749365a7",
   "metadata": {},
   "outputs": [
    {
     "name": "stdout",
     "output_type": "stream",
     "text": [
      "pl\n"
     ]
    }
   ],
   "source": [
    "#Negative Index \n",
    "str1=\"Apple\"\n",
    "print(str1[-3 : -1])"
   ]
  },
  {
   "cell_type": "code",
   "execution_count": 26,
   "id": "0303cb09-63c9-4efd-9c31-82f4281e6c37",
   "metadata": {},
   "outputs": [
    {
     "name": "stdout",
     "output_type": "stream",
     "text": [
      "True\n",
      "I am studying python from the apnacollage\n",
      "i am studying python from the ApnaCollage\n",
      "i am studying pythan fram the ApnaCallage\n",
      "i am studying java from the ApnaCollage\n",
      "18\n",
      "-1\n",
      "1\n",
      "3\n"
     ]
    }
   ],
   "source": [
    "#String functions \n",
    "str=\"i am studying python from the ApnaCollage\"\n",
    "print(str.endswith(\"age\"))\n",
    "print(str.capitalize())\n",
    "print(str)\n",
    "print(str.replace(\"o\",\"a\"))\n",
    "print(str.replace(\"python\",\"java\"))\n",
    "print(str.find(\"o\"))\n",
    "print(str.find(\"Q\")) #For invalid chracter\n",
    "print(str.count(\"from\"))\n",
    "print(str.count(\"a\"))"
   ]
  },
  {
   "cell_type": "code",
   "execution_count": 30,
   "id": "bac04230-59fa-4b5c-99b3-8e126271c6a4",
   "metadata": {},
   "outputs": [
    {
     "name": "stdin",
     "output_type": "stream",
     "text": [
      "Enter your first name adi\n"
     ]
    },
    {
     "data": {
      "text/plain": [
       "3"
      ]
     },
     "execution_count": 30,
     "metadata": {},
     "output_type": "execute_result"
    }
   ],
   "source": [
    "str =input(\"Enter your first name : \")\n",
    "len(str)"
   ]
  },
  {
   "cell_type": "code",
   "execution_count": 34,
   "id": "4c98f968-465f-4111-b3d0-634d93ef3ff0",
   "metadata": {},
   "outputs": [
    {
     "name": "stdin",
     "output_type": "stream",
     "text": [
      "Enter the string :  steps\n"
     ]
    },
    {
     "name": "stdout",
     "output_type": "stream",
     "text": [
      "2\n"
     ]
    }
   ],
   "source": [
    "str =input(\"Enter the string : \")\n",
    "print(str.count(\"s\"))"
   ]
  },
  {
   "cell_type": "code",
   "execution_count": 36,
   "id": "2adcd346-0245-433d-9e11-f55ae39df185",
   "metadata": {},
   "outputs": [
    {
     "name": "stdin",
     "output_type": "stream",
     "text": [
      "Enter the age  67\n"
     ]
    },
    {
     "name": "stdout",
     "output_type": "stream",
     "text": [
      "Can drive\n"
     ]
    }
   ],
   "source": [
    "#Conditional Statement \n",
    "age = int(input(\"Enter the age \"))\n",
    "#nested if \n",
    "if(age>=18):\n",
    "    if(age>=80):\n",
    "        print(\"cannot drive \")\n",
    "    else:\n",
    "        print(\"Can drive\")\n",
    "else:\n",
    "    print(\"cannot drive\")"
   ]
  },
  {
   "cell_type": "code",
   "execution_count": 43,
   "id": "c4708e2f-7a6f-4404-b5f5-48865fe569ca",
   "metadata": {},
   "outputs": [
    {
     "name": "stdin",
     "output_type": "stream",
     "text": [
      "Enter the number 4\n"
     ]
    },
    {
     "name": "stdout",
     "output_type": "stream",
     "text": [
      "Number is even\n"
     ]
    }
   ],
   "source": [
    "#Program to check number is even or odd\n",
    "num = int(input(\"Enter the number\"))\n",
    "if(num % 2==0):\n",
    "    print(\"Number is even\")\n",
    "else:\n",
    "    print(\"Number is odd\")"
   ]
  },
  {
   "cell_type": "code",
   "execution_count": 53,
   "id": "bbaf7a17-d9fe-4e3a-9cf9-d5c912488d6a",
   "metadata": {},
   "outputs": [
    {
     "name": "stdin",
     "output_type": "stream",
     "text": [
      "Enter the first number 6\n",
      "Enter the second number 2\n",
      "Enter the third number 6\n"
     ]
    },
    {
     "name": "stdout",
     "output_type": "stream",
     "text": [
      "6 is a greater number\n"
     ]
    }
   ],
   "source": [
    "#Program to find greatest number among the 3 numbers \n",
    "a = int(input(\"Enter the first number\"))\n",
    "b = int(input(\"Enter the second number\"))\n",
    "c = int(input(\"Enter the third number\"))\n",
    "if(a>b and a>c):\n",
    "    print(a,\"is a greater number \")\n",
    "elif(b>=c):\n",
    "    print(b,\"is a greater number \")\n",
    "else:\n",
    "     print(c,\"is a greater number\")"
   ]
  },
  {
   "cell_type": "code",
   "execution_count": 3,
   "id": "e709ffae-7108-4668-9248-207344a1655c",
   "metadata": {},
   "outputs": [
    {
     "name": "stdin",
     "output_type": "stream",
     "text": [
      "Enter the number 48\n"
     ]
    },
    {
     "name": "stdout",
     "output_type": "stream",
     "text": [
      "Not multiple\n"
     ]
    }
   ],
   "source": [
    "#Program to check number is multiple of 7 or not\n",
    "num = int(input(\"Enter the number\"))\n",
    "if(num % 7==0):\n",
    "    print(\"Number is multiple of 7\")\n",
    "else:\n",
    "    print(\"Not multiple\")"
   ]
  },
  {
   "cell_type": "code",
   "execution_count": 3,
   "id": "519f9b4a-54ec-4d91-be0b-668bcd713beb",
   "metadata": {},
   "outputs": [
    {
     "name": "stdout",
     "output_type": "stream",
     "text": [
      "[94.4, 87.5, 95.3, 89.2, 79.9]\n",
      "<class 'list'>\n",
      "94.4\n",
      "89.2\n",
      "['ADI', 93, 'deutsch']\n"
     ]
    }
   ],
   "source": [
    "#List in python \n",
    "marks = [94.4,87.5,95.3,89.2,79.9]\n",
    "print(marks)\n",
    "print(type(marks))\n",
    "print(marks[0])  #indexing \n",
    "print(marks[3])\n",
    "student = [\"ADI\",93,\"deutsch\"] \n",
    "print(student)\n"
   ]
  },
  {
   "cell_type": "code",
   "execution_count": 5,
   "id": "8820e06e-be50-4412-b75c-0263762bd564",
   "metadata": {},
   "outputs": [
    {
     "name": "stdout",
     "output_type": "stream",
     "text": [
      "karan\n",
      "['arjun', 95.4, 17, 'Delhi']\n"
     ]
    }
   ],
   "source": [
    "#List are mutable\n",
    "student =[\"karan\",95.4,17,\"Delhi\"]\n",
    "print(student[0])\n",
    "student[0] =\"arjun\"\n",
    "print(student )"
   ]
  },
  {
   "cell_type": "code",
   "execution_count": 20,
   "id": "feab394e-100e-4739-97f0-0ea2445ff821",
   "metadata": {},
   "outputs": [
    {
     "data": {
      "text/plain": [
       "[87, 95, 89]"
      ]
     },
     "execution_count": 20,
     "metadata": {},
     "output_type": "execute_result"
    }
   ],
   "source": [
    "#Slicing in list\n",
    "marks = [94,87,95,89,79]\n",
    "marks[1 : 4]\n",
    "#marks[-3 : -1] =Negative index"
   ]
  },
  {
   "cell_type": "code",
   "execution_count": 35,
   "id": "1cb9b6c0-74af-4414-a900-57c683eb9c7d",
   "metadata": {},
   "outputs": [
    {
     "name": "stdout",
     "output_type": "stream",
     "text": [
      "None\n",
      "[4, 3, 2, 1]\n"
     ]
    }
   ],
   "source": [
    "#List methods\n",
    "list =[2,1,3]\n",
    "list.append(4) \n",
    "print(list.sort(reverse=True))\n",
    "print(list)"
   ]
  },
  {
   "cell_type": "code",
   "execution_count": 41,
   "id": "9dd54320-ef5e-4742-a584-72cc7a55955b",
   "metadata": {},
   "outputs": [
    {
     "name": "stdout",
     "output_type": "stream",
     "text": [
      "None\n",
      "['mango', 'banana', 'apple']\n"
     ]
    }
   ],
   "source": [
    "#sorting in string\n",
    "list = [\"banana\",\"mango\",\"apple\"]\n",
    "print(list.sort(reverse=True))\n",
    "print(list)"
   ]
  },
  {
   "cell_type": "code",
   "execution_count": 43,
   "id": "da716185-b863-4b15-a137-8451762c6c86",
   "metadata": {},
   "outputs": [
    {
     "name": "stdout",
     "output_type": "stream",
     "text": [
      "['apple', 'mango', 'banana']\n"
     ]
    }
   ],
   "source": [
    "list = [\"banana\",\"mango\",\"apple\"]\n",
    "list.reverse()\n",
    "print(list)"
   ]
  },
  {
   "cell_type": "code",
   "execution_count": 45,
   "id": "37e1ed47-1c34-4fb9-bcb0-9c2de6a890b1",
   "metadata": {},
   "outputs": [
    {
     "name": "stdout",
     "output_type": "stream",
     "text": [
      "[2, 5, 1, 3]\n"
     ]
    }
   ],
   "source": [
    "list =[2,1,3]\n",
    "list.insert(1,5)    #list.insert(index,value)\n",
    "print(list)"
   ]
  },
  {
   "cell_type": "code",
   "execution_count": 47,
   "id": "0794f00b-7364-4888-989e-ff6963d4082c",
   "metadata": {},
   "outputs": [
    {
     "name": "stdout",
     "output_type": "stream",
     "text": [
      "[2, 3, 1]\n"
     ]
    }
   ],
   "source": [
    "list =[2,1,3,1]\n",
    "list.remove(1) #remove first occurance of element \n",
    "print(list)"
   ]
  },
  {
   "cell_type": "code",
   "execution_count": 51,
   "id": "513cfe2c-f3b4-43d7-af35-4edc91353331",
   "metadata": {},
   "outputs": [
    {
     "name": "stdout",
     "output_type": "stream",
     "text": [
      "[2, 1, 1]\n"
     ]
    }
   ],
   "source": [
    "list =[2,1,3,1]\n",
    "list.pop(2)  #list.pop(idx)\n",
    "print(list)"
   ]
  },
  {
   "cell_type": "code",
   "execution_count": 5,
   "id": "c3276c71-afd4-47ce-8f47-e1108647d78b",
   "metadata": {},
   "outputs": [
    {
     "name": "stdout",
     "output_type": "stream",
     "text": [
      "2\n",
      "(1, 3, 1)\n"
     ]
    }
   ],
   "source": [
    "#Tuples in python (immutable)\n",
    "tup =(2,1,3,1)\n",
    "print(tup[0]) #indexing \n",
    "print(tup[1:4]) #slicing "
   ]
  },
  {
   "cell_type": "code",
   "execution_count": 3,
   "id": "4c9a04f4-623d-4055-8107-43eee5dfe0b0",
   "metadata": {},
   "outputs": [
    {
     "name": "stdout",
     "output_type": "stream",
     "text": [
      "(1,)\n"
     ]
    }
   ],
   "source": [
    "tup =(1,)   #tuple for a single value\n",
    "print(tup)"
   ]
  },
  {
   "cell_type": "code",
   "execution_count": 9,
   "id": "75232dc2-537c-4ce0-a9ff-a0cfd6434498",
   "metadata": {},
   "outputs": [
    {
     "name": "stdout",
     "output_type": "stream",
     "text": [
      "1\n",
      "2\n"
     ]
    }
   ],
   "source": [
    "#tuple methods \n",
    "tup =(1,2,3,4,1)\n",
    "print(tup.index(2))\n",
    "print(tup.count(1))"
   ]
  },
  {
   "cell_type": "code",
   "execution_count": 13,
   "id": "37f0a2f9-6d46-44f3-aec2-64e71787626e",
   "metadata": {},
   "outputs": [
    {
     "name": "stdin",
     "output_type": "stream",
     "text": [
      "Enter first movie name ff\n",
      "Enter second movie name fd\n",
      "Enter third movie name  dd\n"
     ]
    },
    {
     "name": "stdout",
     "output_type": "stream",
     "text": [
      "['ff', 'fd', 'dd']\n"
     ]
    }
   ],
   "source": [
    "#program to store your favourite movie names in the list\n",
    "movies = []\n",
    "movie1 = input(\"Enter first movie name\")\n",
    "movie2 = input(\"Enter second movie name\")\n",
    "movie3 = input(\"Enter third movie name \")\n",
    "movies.append(movie1)\n",
    "movies.append(movie2)\n",
    "movies.append(movie3)\n",
    "print(movies)"
   ]
  },
  {
   "cell_type": "code",
   "execution_count": 23,
   "id": "d5b9a1bc-1aa6-4fc8-a085-a3b3ddc0ae53",
   "metadata": {},
   "outputs": [
    {
     "name": "stdout",
     "output_type": "stream",
     "text": [
      "Not palindrome\n"
     ]
    }
   ],
   "source": [
    "#program to check list is palindrome or not \n",
    "list1 = [1,2,1]\n",
    "list2 = [1,2,3]\n",
    "copy_list2= list2.copy()\n",
    "copy_list2.reverse()\n",
    "if(copy_list2 == list2 ):\n",
    "    print(\"Palindrome\")\n",
    "else:\n",
    "    print(\"Not palindrome\")\n",
    "    "
   ]
  },
  {
   "cell_type": "code",
   "execution_count": 31,
   "id": "8537aab1-dc91-4d83-b0eb-d947b91b1d15",
   "metadata": {},
   "outputs": [
    {
     "name": "stdout",
     "output_type": "stream",
     "text": [
      "3\n"
     ]
    }
   ],
   "source": [
    "#Program to calculate no. of students with \"A\" grade from the following tuple \n",
    "grade =[\"C\",\"D\",\"A\",\"A\",\"B\",\"B\",\"A\"]\n",
    "print(grade.count(\"A\"))"
   ]
  },
  {
   "cell_type": "code",
   "execution_count": 39,
   "id": "96db24e1-9018-408f-85f3-8d16c443a027",
   "metadata": {},
   "outputs": [
    {
     "name": "stdout",
     "output_type": "stream",
     "text": [
      "['A', 'A', 'A', 'B', 'B', 'C', 'D']\n"
     ]
    }
   ],
   "source": [
    "#Program to sort the list \n",
    "grade =[\"C\",\"D\",\"A\",\"A\",\"B\",\"B\",\"A\"]\n",
    "grade.sort()\n",
    "print(grade)"
   ]
  },
  {
   "cell_type": "code",
   "execution_count": 58,
   "id": "398263fa-2a6b-42ff-90fa-b7ba7a397a97",
   "metadata": {},
   "outputs": [
    {
     "name": "stdout",
     "output_type": "stream",
     "text": [
      "{'name': 'Adi', 'subjects': ['python', 'c', 'java'], 'topics': ('dict', 'set'), 'age': 19, 'surname': 'Pangavhane'}\n"
     ]
    }
   ],
   "source": [
    "#Dictionary\n",
    "info ={\n",
    "    \"name\":\"Aditya Pangavhane\",\n",
    "    \"subjects\":[\"python\",\"c\",\"java\"],\n",
    "    \"topics\":(\"dict\",\"set\"),\n",
    "    \"age\" : 19\n",
    "}\n",
    "#print(info[\"name\"])\n",
    "#print(info[\"age\"])\n",
    "info[\"name\"] = \"Adi\"  #overwrite\n",
    "info[\"surname\"] = \"Pangavhane\"\n",
    "print(info)"
   ]
  },
  {
   "cell_type": "code",
   "execution_count": 62,
   "id": "1b3593e2-1e28-4090-b554-96134e770b74",
   "metadata": {},
   "outputs": [
    {
     "name": "stdout",
     "output_type": "stream",
     "text": [
      "{'name': 'adi'}\n"
     ]
    }
   ],
   "source": [
    "#empty dictionary \n",
    "null_dict ={}\n",
    "null_dict [\"name\"] = \"adi\"\n",
    "print(null_dict)"
   ]
  },
  {
   "cell_type": "code",
   "execution_count": 78,
   "id": "af17ba68-fff4-4da5-b472-8561d983a13e",
   "metadata": {},
   "outputs": [
    {
     "name": "stdout",
     "output_type": "stream",
     "text": [
      "{'phy': 93, 'chem': 91, 'math': 90}\n",
      "91\n"
     ]
    }
   ],
   "source": [
    "#Nested dictionry \n",
    "student = {\n",
    "   \"name\": \"Adi pangavhane \",\n",
    "    \"subjects\": {\n",
    "       \"phy\": 93,\n",
    "       \"chem\": 91,\n",
    "       \"math\": 90\n",
    "   }\n",
    "}\n",
    "print(student[\"subjects\"])\n",
    "print(student[\"subjects\"][\"chem\"])\n"
   ]
  },
  {
   "cell_type": "code",
   "execution_count": 5,
   "id": "85699e71-7760-4ce3-b62a-5e75c6c4ef6d",
   "metadata": {},
   "outputs": [
    {
     "name": "stdout",
     "output_type": "stream",
     "text": [
      "['name', 'subjects']\n",
      "dict_keys(['name', 'subjects'])\n",
      "2\n",
      "dict_values(['Adi pangavhane ', {'phy': 93, 'chem': 91, 'math': 90}])\n",
      "dict_items([('name', 'Adi pangavhane '), ('subjects', {'phy': 93, 'chem': 91, 'math': 90})])\n",
      "[('name', 'Adi pangavhane '), ('subjects', {'phy': 93, 'chem': 91, 'math': 90})]\n",
      "None\n",
      "{'name': 'Adi pangavhane ', 'subjects': {'phy': 93, 'chem': 91, 'math': 90}, 'city': 'delhi', 'age': 19}\n"
     ]
    }
   ],
   "source": [
    "#Dictionary methods \n",
    "student = {\n",
    "   \"name\": \"Adi pangavhane \",\n",
    "    \"subjects\": {\n",
    "       \"phy\": 93,\n",
    "       \"chem\": 91,\n",
    "       \"math\": 90\n",
    "   }\n",
    "}\n",
    "print(list(student.keys()))  #type casting \n",
    "print(student.keys())        #returns all the keys \n",
    "print(len(student))\n",
    "print(student.values())      #returns all the values \n",
    "print(student.items())       #returns all(key,val)pairs as tuples \n",
    "print(list(student.items())) #type casting \n",
    "print(student.get(\"name2\"))  #returns key according the values \n",
    "#print(student[\"name2\"])     #error \n",
    "student.update({\"city\": \"delhi\",\"age\":19}) #insert specified items to dictionary\n",
    "print(student)"
   ]
  },
  {
   "cell_type": "code",
   "execution_count": 15,
   "id": "eafaa649-8116-4c0b-a0ed-2c3f4bff5096",
   "metadata": {},
   "outputs": [
    {
     "name": "stdout",
     "output_type": "stream",
     "text": [
      "{'hello', 1, 2, 3, 4, 'world'}\n",
      "<class 'set'>\n",
      "6\n"
     ]
    }
   ],
   "source": [
    "#Sets\n",
    "collection = { 1 ,2 ,3 ,4,\"hello\",\"hello\",\"world\" }   #Only values are stored \n",
    "print(collection)\n",
    "print(type(collection))\n",
    "print(len(collection))                               #duplicate values are ignored"
   ]
  },
  {
   "cell_type": "code",
   "execution_count": 19,
   "id": "9b9240cb-0fbb-48ee-b0c9-84ada297b8fe",
   "metadata": {},
   "outputs": [
    {
     "name": "stdout",
     "output_type": "stream",
     "text": [
      "<class 'set'>\n"
     ]
    }
   ],
   "source": [
    "#empty set\n",
    "collection  = set() \n",
    "print(type(collection))"
   ]
  },
  {
   "cell_type": "code",
   "execution_count": 28,
   "id": "c52e6f2c-555b-4ee0-8524-a20b757c7c97",
   "metadata": {},
   "outputs": [
    {
     "name": "stdout",
     "output_type": "stream",
     "text": [
      "0\n"
     ]
    }
   ],
   "source": [
    "#Set methods \n",
    "collection  = set()\n",
    "collection.add(1)\n",
    "collection.add(2)\n",
    "collection.add(3)\n",
    "collection.remove(1)\n",
    "collection.clear()    #empties the set\n",
    "print(len(collection))"
   ]
  },
  {
   "cell_type": "code",
   "execution_count": 37,
   "id": "e0e9a071-f76e-497b-9055-ef1005b767b5",
   "metadata": {},
   "outputs": [
    {
     "name": "stdout",
     "output_type": "stream",
     "text": [
      "hello\n"
     ]
    }
   ],
   "source": [
    "collection = {\"hello\",\"apanacollage\",\"world\",\"coding\",\"python\"}\n",
    "print(collection.pop())   #removes the random values"
   ]
  },
  {
   "cell_type": "code",
   "execution_count": 43,
   "id": "7da32b4f-ba11-4a16-bc0f-2e519e07b6ce",
   "metadata": {},
   "outputs": [
    {
     "name": "stdout",
     "output_type": "stream",
     "text": [
      "{1, 2, 3, 4}\n",
      "{1, 2, 3}\n",
      "{2, 3, 4}\n",
      "{2, 3}\n"
     ]
    }
   ],
   "source": [
    "#Union method (combines both set values  & returns new)\n",
    "set1 = {1,2,3}\n",
    "set2 = {2,3,4}\n",
    "print(set1.union(set2))\n",
    "print(set1)\n",
    "print(set2)\n",
    "#Intersection method (combines the common values & returns new)\n",
    "print(set1.intersection(set2))"
   ]
  },
  {
   "cell_type": "code",
   "execution_count": 54,
   "id": "80f5f390-c6c4-4a5c-b182-a92d9be19528",
   "metadata": {},
   "outputs": [
    {
     "name": "stdout",
     "output_type": "stream",
     "text": [
      "{'table': ('a piece of furniture', 'list of facts and fig.'), 'cat': 'a small animal'}\n"
     ]
    }
   ],
   "source": [
    "#Program to store word meanings in dictionary\n",
    "dict = {\n",
    "    \"table\" :(\"a piece of furniture\",\"list of facts and fig.\"),\n",
    "    \"cat\":\"a small animal\"\n",
    "   }\n",
    "print(dict)"
   ]
  },
  {
   "cell_type": "code",
   "execution_count": 58,
   "id": "c11171b3-e7c5-4538-ac5a-d86b1a466533",
   "metadata": {},
   "outputs": [
    {
     "name": "stdout",
     "output_type": "stream",
     "text": [
      "5\n"
     ]
    }
   ],
   "source": [
    "#Program to find the no. of classes required (using sets)\n",
    "sub = {\"python\",\"java\",\"c++\",\"python\",\"javascript\",\n",
    "       \"java\",\"python\",\"java\",\"c++\",\"c\"}\n",
    "print(len(sub))"
   ]
  },
  {
   "cell_type": "code",
   "execution_count": 5,
   "id": "7b5b0690-6ccc-4021-961a-5449d721e519",
   "metadata": {},
   "outputs": [
    {
     "name": "stdin",
     "output_type": "stream",
     "text": [
      "Enter phy marks :  79\n",
      "Enter chem marks :  34\n",
      "Enter bio marks :  24\n"
     ]
    },
    {
     "name": "stdout",
     "output_type": "stream",
     "text": [
      "{'phy': 79, 'chem': 34, 'bio': 24}\n"
     ]
    }
   ],
   "source": [
    "#Program to store the marks of subjects in dictionary  \n",
    "marks= {} \n",
    "x = int(input(\"Enter phy marks : \"))\n",
    "marks.update({\"phy\": x})\n",
    "x = int(input(\"Enter chem marks : \"))\n",
    "marks.update({\"chem\": x})\n",
    "x = int(input(\"Enter bio marks : \"))\n",
    "marks.update({\"bio\": x})\n",
    "print(marks)"
   ]
  },
  {
   "cell_type": "code",
   "execution_count": 9,
   "id": "9e690efc-488b-4258-9836-3efdbdc53c1a",
   "metadata": {},
   "outputs": [
    {
     "name": "stdout",
     "output_type": "stream",
     "text": [
      "{('int', 9), ('float', 9.0)}\n"
     ]
    }
   ],
   "source": [
    "#Program to set 9 & 9.0 in a set\n",
    "values = {\n",
    "    (\"float\",9.0),\n",
    "    (\"int\",9)\n",
    "}\n",
    "print(values)"
   ]
  },
  {
   "cell_type": "code",
   "execution_count": 16,
   "id": "dd392db3-cbfa-49b8-8281-3c7577818772",
   "metadata": {},
   "outputs": [
    {
     "name": "stdout",
     "output_type": "stream",
     "text": [
      "hello\n",
      "hello\n",
      "hello\n",
      "hello\n",
      "hello\n",
      "6\n"
     ]
    }
   ],
   "source": [
    "#Loops in python \n",
    "count = 1\n",
    "while count <= 5:\n",
    "    print(\"hello\")\n",
    "    count += 1\n",
    "print(count)"
   ]
  },
  {
   "cell_type": "code",
   "execution_count": 1,
   "id": "2ba1826f-bc58-40dd-85d7-5db5c3e68435",
   "metadata": {},
   "outputs": [
    {
     "name": "stdout",
     "output_type": "stream",
     "text": [
      "5\n",
      "4\n",
      "3\n",
      "2\n",
      "1\n",
      "loop ended\n"
     ]
    }
   ],
   "source": [
    "#Program to print numbers from 1 to 5\n",
    "i=5\n",
    "while i >=1:\n",
    "    print(i)\n",
    "    i -=1\n",
    "print(\"loop ended\")"
   ]
  },
  {
   "cell_type": "code",
   "execution_count": 1,
   "id": "1fb49ea1-fda7-4afe-a997-713655df7d61",
   "metadata": {},
   "outputs": [
    {
     "name": "stdout",
     "output_type": "stream",
     "text": [
      "1\n",
      "2\n",
      "3\n",
      "4\n",
      "5\n",
      "6\n",
      "7\n",
      "8\n",
      "9\n",
      "10\n",
      "loop ended\n"
     ]
    }
   ],
   "source": [
    "#Program to print the numbers from 1 to 10\n",
    "i = 1\n",
    "while i <=10:\n",
    "    print(i)\n",
    "    i+=1\n",
    "print(\"loop ended\")"
   ]
  },
  {
   "cell_type": "code",
   "execution_count": 5,
   "id": "b3cba31f-474a-48a0-b41b-e3166696a2d5",
   "metadata": {},
   "outputs": [
    {
     "name": "stdout",
     "output_type": "stream",
     "text": [
      "10\n",
      "9\n",
      "8\n",
      "7\n",
      "6\n",
      "5\n",
      "4\n",
      "3\n",
      "2\n",
      "1\n",
      "loop ended\n"
     ]
    }
   ],
   "source": [
    "#Program to print the numbers from 10 to 1\n",
    "i = 10\n",
    "while i >=1:\n",
    "    print(i)\n",
    "    i-=1\n",
    "print(\"loop ended\")"
   ]
  },
  {
   "cell_type": "code",
   "execution_count": 17,
   "id": "d3603827-3c8f-4780-a5ac-da5a13368c47",
   "metadata": {},
   "outputs": [
    {
     "name": "stdin",
     "output_type": "stream",
     "text": [
      "Enter the number :  16\n"
     ]
    },
    {
     "name": "stdout",
     "output_type": "stream",
     "text": [
      "16\n",
      "32\n",
      "48\n",
      "64\n",
      "80\n",
      "96\n",
      "112\n",
      "128\n",
      "144\n",
      "160\n"
     ]
    }
   ],
   "source": [
    "#Print the multiplication table of number n \n",
    "n = int(input(\"Enter the number : \"))\n",
    "i = 1\n",
    "while i<=10:\n",
    "    print(n*i)\n",
    "    i+=1"
   ]
  },
  {
   "cell_type": "code",
   "execution_count": 23,
   "id": "4ee5388e-173b-41df-9e31-b34c66796fef",
   "metadata": {},
   "outputs": [
    {
     "name": "stdout",
     "output_type": "stream",
     "text": [
      "1\n",
      "4\n",
      "9\n",
      "16\n",
      "25\n",
      "36\n",
      "49\n",
      "64\n",
      "81\n",
      "100\n"
     ]
    }
   ],
   "source": [
    "#Print the list \n",
    "nums = [1,4,9,16,25,36,49,64,81,100]\n",
    "idx = 0\n",
    "while idx < len(nums):\n",
    "    print(nums[idx]) #nums[0],nums[1]....\n",
    "    idx +=1"
   ]
  },
  {
   "cell_type": "code",
   "execution_count": 1,
   "id": "89a252de-8d11-413f-8f99-03e0c7bd4d99",
   "metadata": {},
   "outputs": [
    {
     "name": "stdout",
     "output_type": "stream",
     "text": [
      "Found at idx  5\n"
     ]
    }
   ],
   "source": [
    "#Program to search number x in tuple \n",
    "nums = (1,4,9,16,25,36,49,64,81,100)\n",
    "\n",
    "x=36\n",
    "i = 0   #initialization \n",
    "while i < len(nums):\n",
    "      if(nums[i] == x) :\n",
    "          print(\"Found at idx \",i)\n",
    "      i+=1\n"
   ]
  },
  {
   "cell_type": "code",
   "execution_count": 3,
   "id": "93acf2a9-daa3-44af-868a-fd07a028e778",
   "metadata": {},
   "outputs": [
    {
     "name": "stdout",
     "output_type": "stream",
     "text": [
      "1\n",
      "2\n",
      "3\n",
      "end of loop\n"
     ]
    }
   ],
   "source": [
    "#Break keyword \n",
    "i = 1\n",
    "while i <=5:\n",
    "    print(i)\n",
    "    if(i==3):\n",
    "        break\n",
    "    i+=1\n",
    "print(\"end of loop\")\n",
    "    "
   ]
  },
  {
   "cell_type": "code",
   "execution_count": 5,
   "id": "0dcfdf55-e48c-43c2-9581-31017bf7dd2a",
   "metadata": {},
   "outputs": [
    {
     "name": "stdout",
     "output_type": "stream",
     "text": [
      "0\n",
      "1\n",
      "2\n",
      "4\n",
      "5\n"
     ]
    }
   ],
   "source": [
    "#continue keyword \n",
    "i = 0\n",
    "while i<=5:\n",
    "    if(i==3):\n",
    "        i+=1\n",
    "        continue   #skip \n",
    "    print(i)\n",
    "    i+=1"
   ]
  },
  {
   "cell_type": "code",
   "execution_count": 13,
   "id": "fa9271ca-0bd2-4cd4-a714-f2fb799f0155",
   "metadata": {},
   "outputs": [
    {
     "name": "stdout",
     "output_type": "stream",
     "text": [
      "1\n",
      "3\n",
      "5\n",
      "7\n",
      "9\n",
      "11\n",
      "13\n",
      "15\n",
      "17\n",
      "19\n"
     ]
    }
   ],
   "source": [
    "#program to print odd numbers from 1 to 20 \n",
    "i=0\n",
    "while i<=20:\n",
    "    if(i%2==0):\n",
    "        i+=1\n",
    "        continue\n",
    "    print(i)\n",
    "    i+=1"
   ]
  },
  {
   "cell_type": "code",
   "execution_count": 15,
   "id": "707d99b2-a568-453b-81d3-1dd09379a9de",
   "metadata": {},
   "outputs": [
    {
     "name": "stdout",
     "output_type": "stream",
     "text": [
      "0\n",
      "2\n",
      "4\n",
      "6\n",
      "8\n",
      "10\n",
      "12\n",
      "14\n",
      "16\n",
      "18\n",
      "20\n"
     ]
    }
   ],
   "source": [
    "#program to print even numbers from 1 to 20 \n",
    "i=0\n",
    "while i<=20:\n",
    "    if(i%2!=0):\n",
    "        i+=1\n",
    "        continue\n",
    "    print(i)\n",
    "    i+=1"
   ]
  },
  {
   "cell_type": "code",
   "execution_count": 1,
   "id": "43ce86e0-d376-49a4-8f31-b3dbb84c04bf",
   "metadata": {},
   "outputs": [
    {
     "name": "stdout",
     "output_type": "stream",
     "text": [
      "1\n",
      "2\n",
      "3\n",
      "4\n",
      "5\n"
     ]
    }
   ],
   "source": [
    "#For loop \n",
    "nums =[1,2,3,4,5]\n",
    "\n",
    "for val in nums:\n",
    "    print(val)"
   ]
  },
  {
   "cell_type": "code",
   "execution_count": 3,
   "id": "9498d9b7-2bce-4cac-b8b3-f0a787078980",
   "metadata": {},
   "outputs": [
    {
     "name": "stdout",
     "output_type": "stream",
     "text": [
      "potato\n",
      "bringle\n",
      "ladyfinger\n",
      "cucumber\n"
     ]
    }
   ],
   "source": [
    "veggies = [\"potato\",\"bringle\",\"ladyfinger\",\"cucumber\"]\n",
    "\n",
    "for val in veggies:\n",
    "    print(val)"
   ]
  },
  {
   "cell_type": "code",
   "execution_count": 7,
   "id": "0dccfacf-1004-4339-ae9d-b924b7a3cc94",
   "metadata": {},
   "outputs": [
    {
     "name": "stdout",
     "output_type": "stream",
     "text": [
      "1\n",
      "2\n",
      "3\n",
      "4\n",
      "2\n",
      "8\n",
      "9\n",
      "END\n"
     ]
    }
   ],
   "source": [
    "tup = (1,2,3,4,2,8,9)\n",
    "\n",
    "for num in tup :\n",
    "    print(num)\n",
    "else:\n",
    "    print(\"END\")"
   ]
  },
  {
   "cell_type": "code",
   "execution_count": 9,
   "id": "ec9ad9ac-871b-46e0-b1be-4d68a8a5f0ad",
   "metadata": {},
   "outputs": [
    {
     "name": "stdout",
     "output_type": "stream",
     "text": [
      "1\n",
      "4\n",
      "9\n",
      "16\n",
      "25\n",
      "36\n",
      "49\n",
      "64\n",
      "81\n",
      "100\n",
      "END\n"
     ]
    }
   ],
   "source": [
    "#Print the element of list using for loop\n",
    "list =[1,4,9,16,25,36,49,64,81,100]\n",
    "\n",
    "for num in list:\n",
    "    print(num)\n",
    "else:\n",
    "    print(\"END\")"
   ]
  },
  {
   "cell_type": "code",
   "execution_count": 15,
   "id": "c9b38f49-31c3-4e84-a67f-4222f6b4eea5",
   "metadata": {},
   "outputs": [
    {
     "name": "stdout",
     "output_type": "stream",
     "text": [
      "Number found at idx 3\n",
      "Number found at idx 10\n"
     ]
    }
   ],
   "source": [
    "#Search the element x in the list\n",
    "\n",
    "list =[1,4,9,16,25,36,49,64,81,100,16]\n",
    "x = 16\n",
    "idx = 0\n",
    "for num in list:\n",
    "    if(num==x):\n",
    "        print(\"Number found at idx\",idx)\n",
    "    idx+=1\n",
    "    "
   ]
  },
  {
   "cell_type": "code",
   "execution_count": 25,
   "id": "2b176dfc-28f8-4311-90d3-17991b1e37e3",
   "metadata": {},
   "outputs": [
    {
     "name": "stdout",
     "output_type": "stream",
     "text": [
      "2\n",
      "4\n",
      "6\n",
      "8\n"
     ]
    }
   ],
   "source": [
    "#range()   (starting from the 0 by default and increment by 1 by default)\n",
    "#seq = range(5)\n",
    "\n",
    "#for i in range(10):   #range(stop)\n",
    " #   print(i)\n",
    "\n",
    "#for i in range(2,10):   #range(start,stop)\n",
    " #   print(i)\n",
    "\n",
    "for i in range(2,10,2):   #range(start,stop,step)\n",
    "    print(i)\n",
    "    "
   ]
  },
  {
   "cell_type": "code",
   "execution_count": 31,
   "id": "5917c0a7-886f-4e70-817b-8409ebb0cdc0",
   "metadata": {},
   "outputs": [
    {
     "name": "stdout",
     "output_type": "stream",
     "text": [
      "1\n",
      "3\n",
      "5\n",
      "7\n",
      "9\n",
      "11\n",
      "13\n",
      "15\n",
      "17\n",
      "19\n",
      "21\n",
      "23\n",
      "25\n",
      "27\n",
      "29\n",
      "31\n",
      "33\n",
      "35\n",
      "37\n",
      "39\n",
      "41\n",
      "43\n",
      "45\n",
      "47\n",
      "49\n"
     ]
    }
   ],
   "source": [
    "#Program to print all odd numbers from the 2 to 100\n",
    "for i in range (1,50,2):\n",
    "    print(i)"
   ]
  },
  {
   "cell_type": "code",
   "execution_count": null,
   "id": "627e2991-a647-4a1e-9a94-1ad5cc2783b6",
   "metadata": {},
   "outputs": [],
   "source": [
    "#Practice questions\n",
    "#Q.1  Print numbers from 1 to 50\n",
    "for i in range (1,51):\n",
    "    print(i)\n"
   ]
  },
  {
   "cell_type": "code",
   "execution_count": 40,
   "id": "075ecb37-5ef9-4b99-8850-8240fb7c5811",
   "metadata": {},
   "outputs": [
    {
     "name": "stdout",
     "output_type": "stream",
     "text": [
      "50\n",
      "49\n",
      "48\n",
      "47\n",
      "46\n",
      "45\n",
      "44\n",
      "43\n",
      "42\n",
      "41\n",
      "40\n",
      "39\n",
      "38\n",
      "37\n",
      "36\n",
      "35\n",
      "34\n",
      "33\n",
      "32\n",
      "31\n",
      "30\n",
      "29\n",
      "28\n",
      "27\n",
      "26\n",
      "25\n",
      "24\n",
      "23\n",
      "22\n",
      "21\n",
      "20\n",
      "19\n",
      "18\n",
      "17\n",
      "16\n",
      "15\n",
      "14\n",
      "13\n",
      "12\n",
      "11\n",
      "10\n",
      "9\n",
      "8\n",
      "7\n",
      "6\n",
      "5\n",
      "4\n",
      "3\n",
      "2\n",
      "1\n"
     ]
    }
   ],
   "source": [
    "#Q.2  Print numbers from 50 to 1\n",
    "for i in range (50,0,-1):\n",
    "    print(i)"
   ]
  },
  {
   "cell_type": "code",
   "execution_count": 42,
   "id": "253b7576-dad6-4130-9d6e-bf7b59930f09",
   "metadata": {},
   "outputs": [
    {
     "name": "stdin",
     "output_type": "stream",
     "text": [
      "Enter the number 3\n"
     ]
    },
    {
     "name": "stdout",
     "output_type": "stream",
     "text": [
      "3\n",
      "6\n",
      "9\n",
      "12\n",
      "15\n",
      "18\n",
      "21\n",
      "24\n",
      "27\n",
      "30\n"
     ]
    }
   ],
   "source": [
    "#Q.3 Print the multiplication table of n\n",
    "n = int(input(\"Enter the number : \"))\n",
    "for i in range (1,11):\n",
    "    print(n*i)"
   ]
  },
  {
   "cell_type": "code",
   "execution_count": 44,
   "id": "e15f071e-2e87-4afb-9ecc-675ac41f22ae",
   "metadata": {},
   "outputs": [
    {
     "name": "stdout",
     "output_type": "stream",
     "text": [
      "some useful work\n"
     ]
    }
   ],
   "source": [
    "#Pass statement i.e.- null statement \n",
    "for i in range(5):\n",
    "    pass\n",
    "print(\"some useful work\")"
   ]
  },
  {
   "cell_type": "code",
   "execution_count": 3,
   "id": "df28cc95-f361-4814-942e-13d177dc1f69",
   "metadata": {},
   "outputs": [
    {
     "name": "stdout",
     "output_type": "stream",
     "text": [
      "Total sum =  28\n"
     ]
    }
   ],
   "source": [
    "#Program to find the sum of first n numbers (using while)\n",
    "n = 7\n",
    "sum = 0\n",
    "i=1\n",
    "while i <= n :\n",
    "    sum +=i\n",
    "    i += 1\n",
    "    #for i in range(1,n+1):\n",
    "   # sum+=i\n",
    "print(\"Total sum = \",sum)"
   ]
  },
  {
   "cell_type": "code",
   "execution_count": 1,
   "id": "4bbe286a-0a74-4149-87b6-4ceffd313946",
   "metadata": {},
   "outputs": [
    {
     "name": "stdout",
     "output_type": "stream",
     "text": [
      "Factorial =  120\n"
     ]
    }
   ],
   "source": [
    "#Program to find factorial of first n natural numbers(using while)\n",
    "n = 5 \n",
    "fact = 1\n",
    "i = 1\n",
    "while i <= n:\n",
    "    fact *= i\n",
    "    i+=1\n",
    "print(\"Factorial = \",fact)\n"
   ]
  },
  {
   "cell_type": "code",
   "execution_count": 1,
   "id": "2cdf150a-f39b-4888-936f-ef59ce005a5f",
   "metadata": {},
   "outputs": [
    {
     "name": "stdout",
     "output_type": "stream",
     "text": [
      "factorial =  120\n"
     ]
    }
   ],
   "source": [
    "#Program to find factorial of first n natural numbers(using for loop)\n",
    "n = 5 \n",
    "fact = 1\n",
    "for i in range(1,n+1):\n",
    "    fact*= i\n",
    "print(\"factorial = \",fact)\n"
   ]
  },
  {
   "cell_type": "code",
   "execution_count": 9,
   "id": "88d998ae-bd5f-4e09-b542-f969489d8cf4",
   "metadata": {},
   "outputs": [
    {
     "name": "stdout",
     "output_type": "stream",
     "text": [
      "7\n"
     ]
    }
   ],
   "source": [
    "#Function    (Use: To reduce redundancy )  \n",
    "#Function defination \n",
    "def calsum(a,b):  #Parameters \n",
    "    return a + b\n",
    "sum = calsum(5,2) #Function call\n",
    "print(sum)\n"
   ]
  },
  {
   "cell_type": "code",
   "execution_count": 12,
   "id": "381db040-d39b-4357-a540-e40d60ebded0",
   "metadata": {},
   "outputs": [
    {
     "name": "stdout",
     "output_type": "stream",
     "text": [
      "<function print_hello at 0x000001BEDA2CC900>\n"
     ]
    }
   ],
   "source": [
    "#Function with no return value \n",
    "def print_hello():\n",
    "    print(\"hello\")\n",
    "output = print_hello\n",
    "print(output)   #None"
   ]
  },
  {
   "cell_type": "code",
   "execution_count": 14,
   "id": "3854620b-c330-46b1-a46b-4f3d51122840",
   "metadata": {},
   "outputs": [
    {
     "name": "stdout",
     "output_type": "stream",
     "text": [
      "2.0\n"
     ]
    }
   ],
   "source": [
    "#Program to calculate average of three numbers \n",
    "def cal_avg(a,b,c):\n",
    "    sum = a + b + c\n",
    "    avg = sum/3\n",
    "    print(avg)\n",
    "cal_avg(1,2,3)"
   ]
  },
  {
   "cell_type": "code",
   "execution_count": 18,
   "id": "b70b7f9e-fd70-4451-9db0-caf29dbafe0a",
   "metadata": {},
   "outputs": [
    {
     "name": "stdout",
     "output_type": "stream",
     "text": [
      "XYZ Aditya\n",
      "adi\n"
     ]
    }
   ],
   "source": [
    "#Types of functions   1.Built-in functions  2.User defined functions \n",
    "#1. Print()\n",
    "print(\"XYZ\",\"Aditya\",end= \" \")  #sep = \" \"\n",
    "print(\"adi\")          #End = \" \\n \"\n",
    "#2.len()\n",
    "#3.Type()\n",
    "#4.Range() \n"
   ]
  },
  {
   "cell_type": "code",
   "execution_count": 26,
   "id": "b76837fe-7763-422c-a1dc-c5bc95d466ab",
   "metadata": {},
   "outputs": [
    {
     "data": {
      "text/plain": [
       "2"
      ]
     },
     "execution_count": 26,
     "metadata": {},
     "output_type": "execute_result"
    }
   ],
   "source": [
    "#Default Parameters \n",
    "def cal_prod(a,b=2):   # parameters(no default,default)\n",
    "    #print( a * b )\n",
    "    return a*b\n",
    "cal_prod(1)\n"
   ]
  },
  {
   "cell_type": "code",
   "execution_count": 28,
   "id": "b741a975-07d3-4633-bd7c-b8b5e9106e47",
   "metadata": {},
   "outputs": [
    {
     "name": "stdout",
     "output_type": "stream",
     "text": [
      "6\n"
     ]
    }
   ],
   "source": [
    "#Program to print the length of list \n",
    "cities =[\"delhi\",\"gurgaon\",\"noida\",\"pune\",\"mumbai\",\"madras\"]\n",
    "def print_len(list):\n",
    "    print(len(list))\n",
    "print_len(cities)\n"
   ]
  },
  {
   "cell_type": "code",
   "execution_count": 30,
   "id": "9a768c34-c9b1-424c-8fe2-42e35f6c52cb",
   "metadata": {},
   "outputs": [
    {
     "name": "stdout",
     "output_type": "stream",
     "text": [
      "delhi gurgaon noida pune mumbai madras "
     ]
    }
   ],
   "source": [
    "#Program to print element of list in a single line \n",
    "cities =[\"delhi\",\"gurgaon\",\"noida\",\"pune\",\"mumbai\",\"madras\"]\n",
    "def print_list(list):\n",
    "    for item in list:\n",
    "        print(item,end=\" \")\n",
    "print_list(cities)\n",
    "    "
   ]
  },
  {
   "cell_type": "code",
   "execution_count": 34,
   "id": "77cf90a5-f731-4b27-b8d7-8248d1793587",
   "metadata": {},
   "outputs": [
    {
     "name": "stdout",
     "output_type": "stream",
     "text": [
      "120\n"
     ]
    }
   ],
   "source": [
    "#Program to find the factorial of n (n is the parameters)\n",
    "# n = 5\n",
    "# fact =1 \n",
    "# for i in range(1,n+1):\n",
    "#     fact *=i\n",
    "# print(fact)\n",
    "\n",
    "def cal_fact(n):\n",
    "    fact=1\n",
    "    for i in range(1,n+1):\n",
    "        fact *=i\n",
    "    print(fact)\n",
    "cal_fact(5)"
   ]
  },
  {
   "cell_type": "code",
   "execution_count": 36,
   "id": "09524382-0d63-411f-9306-eae39879b687",
   "metadata": {},
   "outputs": [
    {
     "name": "stdout",
     "output_type": "stream",
     "text": [
      "10 USD =  830 INR\n"
     ]
    }
   ],
   "source": [
    "#Program to convert USD To INR\n",
    "def convertor(usd_val):\n",
    "    inr_val = usd_val *83 \n",
    "    print(usd_val,\"USD = \",inr_val,\"INR\")\n",
    "convertor(10)"
   ]
  },
  {
   "cell_type": "code",
   "execution_count": 44,
   "id": "42be413e-3e09-4bd0-bb3a-b73296b1e4be",
   "metadata": {},
   "outputs": [
    {
     "name": "stdin",
     "output_type": "stream",
     "text": [
      "Enter the number  3\n"
     ]
    },
    {
     "name": "stdout",
     "output_type": "stream",
     "text": [
      "Number is odd\n"
     ]
    }
   ],
   "source": [
    "#Program to check number is even or odd (using function)\n",
    "n=int(input(\"Enter the number \"))\n",
    "def num(n):\n",
    "    if(n%2==0):\n",
    "        print(\"Number is even\")\n",
    "    else:\n",
    "        print(\"Number is odd\")\n",
    "num(n)"
   ]
  },
  {
   "cell_type": "code",
   "execution_count": 52,
   "id": "12952202-70ff-4d07-b94b-9c17a2846eee",
   "metadata": {},
   "outputs": [
    {
     "name": "stdout",
     "output_type": "stream",
     "text": [
      "3\n",
      "2\n",
      "1\n",
      "END\n",
      "END\n",
      "END\n"
     ]
    }
   ],
   "source": [
    "# Recursion :  ( Function calls itself repeadtly) & somewhat similiar to loop\n",
    "#Print n to 1 backwards \n",
    "def show (n):\n",
    "    if(n==0):   #base case \n",
    "        return\n",
    "    print(n)\n",
    "    show(n-1)\n",
    "    print(\"END\")\n",
    "show(3)"
   ]
  },
  {
   "cell_type": "code",
   "execution_count": 62,
   "id": "653ed089-f931-4adb-aa22-bd93f3caa916",
   "metadata": {},
   "outputs": [
    {
     "name": "stdout",
     "output_type": "stream",
     "text": [
      "120\n"
     ]
    }
   ],
   "source": [
    "#Returns n!   n!=(n-1)! * n [Recurrence relation]\n",
    "def fact(n):     #Call stack \n",
    "    if(n==0 or n==1):  \n",
    "        return 1\n",
    "    return fact(n-1) * n\n",
    "print(fact(5))"
   ]
  },
  {
   "cell_type": "code",
   "execution_count": 70,
   "id": "8fae314e-6d67-411e-a2bd-2f2be88e0eca",
   "metadata": {},
   "outputs": [
    {
     "name": "stdout",
     "output_type": "stream",
     "text": [
      "15\n"
     ]
    }
   ],
   "source": [
    "# Program to calculate sum of natural numbers (using recursion)\n",
    "def cal_sum(n):\n",
    "    if(n==0):\n",
    "        return 0\n",
    "    return cal_sum(n-1) + n \n",
    "sum = cal_sum(5)\n",
    "print(sum)"
   ]
  },
  {
   "cell_type": "code",
   "execution_count": 74,
   "id": "a9f18c47-bdff-4123-8893-dfb2b44b4e5c",
   "metadata": {},
   "outputs": [
    {
     "name": "stdout",
     "output_type": "stream",
     "text": [
      "mango\n",
      "litchi\n",
      "apple\n",
      "banana\n"
     ]
    }
   ],
   "source": [
    "#Write a recursive function to print all elements in a list \n",
    "def print_list(list,idx=0):\n",
    "     if(idx == len(list)):\n",
    "         return \n",
    "     print(list[idx])\n",
    "     print_list(list,idx+1)\n",
    "fruits = [\"mango\",\"litchi\",\"apple\",\"banana\"]\n",
    "\n",
    "print_list(fruits)"
   ]
  },
  {
   "cell_type": "code",
   "execution_count": 3,
   "id": "5f51e949-a5ba-4f2e-8c06-002966a65e71",
   "metadata": {},
   "outputs": [
    {
     "name": "stdout",
     "output_type": "stream",
     "text": [
      "Aditya\n"
     ]
    }
   ],
   "source": [
    "#OOP IN PYTHON \n",
    "#Creating class and object\n",
    "class Student:     #class\n",
    "    name = \"Aditya\"\n",
    "s1 = Student()     #object\n",
    "print(s1.name) "
   ]
  },
  {
   "cell_type": "code",
   "execution_count": 5,
   "id": "e63eb4a5-c1cd-4166-ab20-eaa78e97bb92",
   "metadata": {},
   "outputs": [
    {
     "name": "stdout",
     "output_type": "stream",
     "text": [
      "blue\n"
     ]
    }
   ],
   "source": [
    "class Car:\n",
    "    color= \"blue\"\n",
    "car1 = Car()\n",
    "print(car1.color)"
   ]
  },
  {
   "cell_type": "code",
   "execution_count": 13,
   "id": "eb321156-3ddb-42df-9b57-63a129a60588",
   "metadata": {},
   "outputs": [
    {
     "name": "stdout",
     "output_type": "stream",
     "text": [
      "adding new student in database..\n",
      "ADI\n",
      "adding new student in database..\n",
      "ram\n"
     ]
    }
   ],
   "source": [
    "#CONSTRUCTOR - (__init__ function )\n",
    "class Student:\n",
    "    # Default constructors\n",
    "     def __init__(self):\n",
    "          pass\n",
    "    # Parameterized constructor\n",
    "     def __init__(self, fullname):\n",
    "        self.name = fullname\n",
    "        print(\"adding new student in database..\")\n",
    "         \n",
    "s1 = Student(\"ADI\")    \n",
    "print(s1.name) \n",
    "s2 = Student(\"ram\")    \n",
    "print(s2.name) \n",
    "\n"
   ]
  },
  {
   "cell_type": "code",
   "execution_count": 19,
   "id": "52fbba9a-8c37-4ccd-9f43-dbaf213307fc",
   "metadata": {},
   "outputs": [
    {
     "name": "stdout",
     "output_type": "stream",
     "text": [
      "adding new student in database..\n",
      "ADI\n"
     ]
    }
   ],
   "source": [
    "#Class and instance attribute\n",
    "class Student:\n",
    "    collage_name = \"sanjivani\"\n",
    "    name =\"anonymous\"     #class attribute \n",
    "    \n",
    "    def __init__(self,name,marks):\n",
    "        self.name = name\n",
    "        self.marks= marks \n",
    "        print(\"adding new student in database..\")\n",
    "         \n",
    "s1 = Student(\"ADI\",98)    \n",
    "print(s1.name) "
   ]
  },
  {
   "cell_type": "code",
   "execution_count": 26,
   "id": "9eaa3208-a55e-4056-9d13-af669298c48d",
   "metadata": {},
   "outputs": [
    {
     "name": "stdout",
     "output_type": "stream",
     "text": [
      "welcome students  ADI\n",
      "98\n"
     ]
    }
   ],
   "source": [
    "#METHODS \n",
    "class Student:\n",
    "    collage_name = \"sanjivani\"\n",
    "    \n",
    "    def __init__(self,name,marks):\n",
    "        self.name = name\n",
    "        self.marks= marks \n",
    "    def welcome(self):\n",
    "        print(\"welcome students \",self.name)\n",
    "    def get_marks(self):\n",
    "        return self.marks\n",
    "s1 = Student(\"ADI\",98)    \n",
    "s1.welcome()\n",
    "print(s1.get_marks())"
   ]
  },
  {
   "cell_type": "code",
   "execution_count": 34,
   "id": "c1c17be1-b94f-40ee-8482-2817ed57a99e",
   "metadata": {},
   "outputs": [
    {
     "name": "stdout",
     "output_type": "stream",
     "text": [
      "Hii Adi  your avg score is: 98.0\n",
      "Hii Yash your avg score is: 98.0\n"
     ]
    }
   ],
   "source": [
    "#QUE1 -\n",
    "#Create student class that takes name ,marks, of 3 subjects as arguments in constructor.and create a method to print average\n",
    "class Student:\n",
    "    def __init__(self,name,marks):\n",
    "        self.name = name \n",
    "        self.marks= marks\n",
    "    def get_avg(self):\n",
    "        sum = 0\n",
    "        for val in self.marks:\n",
    "            sum += val\n",
    "        print(\"Hii\",self.name,\"your avg score is:\",sum/3)\n",
    "s1 = student(\"Adi \",[99,98,97])\n",
    "s1.get_avg()\n",
    "s1.name = \"Yash\"\n",
    "s1.get_avg()"
   ]
  },
  {
   "cell_type": "code",
   "execution_count": 38,
   "id": "88e08f7b-692f-441a-9987-064b86a6eba3",
   "metadata": {},
   "outputs": [],
   "source": [
    "#Static methods \n",
    "class Student :\n",
    "    @staticmethod   #decorator \n",
    "    def collage():\n",
    "        print(\"sanjivani collage\")"
   ]
  },
  {
   "cell_type": "code",
   "execution_count": 42,
   "id": "a8422e66-3d91-4371-afc6-2b25dcc20ef2",
   "metadata": {},
   "outputs": [
    {
     "name": "stdout",
     "output_type": "stream",
     "text": [
      "Car is staretd...\n"
     ]
    }
   ],
   "source": [
    "#Pillars of OOP\n",
    "#1.Abstraction \n",
    "class Car :\n",
    "    def __init__(self):\n",
    "        self.acc = False\n",
    "        self.brk = False\n",
    "        self.clutch = False\n",
    "\n",
    "    def start(self):\n",
    "        self.clutch = True\n",
    "        self.acc = True \n",
    "        print(\"Car is staretd...\")\n",
    "car1 = Car()\n",
    "car1.start()\n",
    "    "
   ]
  },
  {
   "cell_type": "code",
   "execution_count": 48,
   "id": "214dd785-da7d-465f-82af-9716baacaea5",
   "metadata": {},
   "outputs": [
    {
     "name": "stdout",
     "output_type": "stream",
     "text": [
      "Rs. 1000 was debited\n",
      "total balance =  9000\n",
      "Rs. 500 was creadited\n",
      "total balance =  9500\n"
     ]
    }
   ],
   "source": [
    "#Progarm for bank account \n",
    "class Account :\n",
    "    def __init__(self,bal,acc):\n",
    "        self.balance = bal\n",
    "        self.account_no = acc\n",
    "        \n",
    "    #debit method\n",
    "    def debit(self,amount):\n",
    "        self.balance -= amount\n",
    "        print(\"Rs.\",amount,\"was debited\" )\n",
    "        print(\"total balance = \",self.get_balance())\n",
    "        \n",
    "    #Credit method \n",
    "    def credit(self,amount):\n",
    "        self.balance += amount\n",
    "        print(\"Rs.\",amount,\"was creadited\" )\n",
    "        print(\"total balance = \",self.get_balance())\n",
    "\n",
    "    #For balance \n",
    "    def get_balance(self):\n",
    "        return self.balance\n",
    "        \n",
    "acc1 = Account(10000,12345)\n",
    "acc1.debit(1000)\n",
    "acc1.credit(500)"
   ]
  },
  {
   "cell_type": "code",
   "execution_count": 3,
   "id": "68fd6d6c-47c1-4897-8430-ebf966ca1a95",
   "metadata": {},
   "outputs": [
    {
     "name": "stdout",
     "output_type": "stream",
     "text": [
      "Aditya\n"
     ]
    }
   ],
   "source": [
    "#OOP PART -2\n",
    "#del keyword\n",
    "class Student:\n",
    "    def __init__(self,name):\n",
    "        self.name =name\n",
    "s1 =Student(\"Aditya\")\n",
    "print(s1.name)\n",
    "del s1.name\n",
    "#print(s1.name)\n"
   ]
  },
  {
   "cell_type": "code",
   "execution_count": 9,
   "id": "78ee8617-e868-4fdd-ae72-84417922802e",
   "metadata": {},
   "outputs": [
    {
     "name": "stdout",
     "output_type": "stream",
     "text": [
      "1234\n"
     ]
    },
    {
     "ename": "AttributeError",
     "evalue": "'Account' object has no attribute '__acc_pass'",
     "output_type": "error",
     "traceback": [
      "\u001b[1;31m---------------------------------------------------------------------------\u001b[0m",
      "\u001b[1;31mAttributeError\u001b[0m                            Traceback (most recent call last)",
      "Cell \u001b[1;32mIn[9], line 12\u001b[0m\n\u001b[0;32m     10\u001b[0m acc1 \u001b[38;5;241m=\u001b[39m Account(\u001b[38;5;124m\"\u001b[39m\u001b[38;5;124m1234\u001b[39m\u001b[38;5;124m\"\u001b[39m,\u001b[38;5;124m\"\u001b[39m\u001b[38;5;124mabcde\u001b[39m\u001b[38;5;124m\"\u001b[39m)\n\u001b[0;32m     11\u001b[0m \u001b[38;5;28mprint\u001b[39m(acc1\u001b[38;5;241m.\u001b[39macc_no)\n\u001b[1;32m---> 12\u001b[0m \u001b[38;5;28mprint\u001b[39m(acc1\u001b[38;5;241m.\u001b[39m__acc_pass)\n",
      "\u001b[1;31mAttributeError\u001b[0m: 'Account' object has no attribute '__acc_pass'"
     ]
    }
   ],
   "source": [
    "#Private attribute and methods \n",
    "class Account:\n",
    "    def __init__(self,acc_no,acc_pass):\n",
    "        self.acc_no = acc_no\n",
    "        self.__acc_pass = acc_pass\n",
    "\n",
    "    def reset_pass(self):\n",
    "        print(self._acc_pass)\n",
    "        \n",
    "acc1 = Account(\"1234\",\"abcde\")\n",
    "print(acc1.acc_no)\n",
    "print(acc1.__acc_pass)\n"
   ]
  },
  {
   "cell_type": "code",
   "execution_count": 15,
   "id": "0819b687-d628-4fd7-8782-489f58938de2",
   "metadata": {},
   "outputs": [
    {
     "ename": "AttributeError",
     "evalue": "'Person' object has no attribute '__hello'",
     "output_type": "error",
     "traceback": [
      "\u001b[1;31m---------------------------------------------------------------------------\u001b[0m",
      "\u001b[1;31mAttributeError\u001b[0m                            Traceback (most recent call last)",
      "Cell \u001b[1;32mIn[15], line 7\u001b[0m\n\u001b[0;32m      5\u001b[0m p1 \u001b[38;5;241m=\u001b[39m Person()\n\u001b[0;32m      6\u001b[0m \u001b[38;5;66;03m#print(p1.__name)\u001b[39;00m\n\u001b[1;32m----> 7\u001b[0m \u001b[38;5;28mprint\u001b[39m(p1\u001b[38;5;241m.\u001b[39m__hello())\n",
      "\u001b[1;31mAttributeError\u001b[0m: 'Person' object has no attribute '__hello'"
     ]
    }
   ],
   "source": [
    "class Person :\n",
    "    __name = \"anonymous\"    #Private attribute\n",
    "    def __hello():          #Private method\n",
    "        print(\"hello person :\")\n",
    "p1 = Person()\n",
    "#print(p1.__name)\n",
    "print(p1.__hello())"
   ]
  },
  {
   "cell_type": "code",
   "execution_count": 21,
   "id": "f96d1fb4-5bf6-4ffa-bf83-93428a844fa6",
   "metadata": {},
   "outputs": [
    {
     "name": "stdout",
     "output_type": "stream",
     "text": [
      "car started..\n",
      "None\n"
     ]
    }
   ],
   "source": [
    "#Inheritance\n",
    "#1. Single Inheritance\n",
    "class Car:     #Parent class/Base class\n",
    "    @staticmethod \n",
    "    def start():\n",
    "        print(\"car started..\")\n",
    "\n",
    "    @staticmethod \n",
    "    def stop():\n",
    "        print(\"car stopped\")\n",
    "\n",
    "class ToyotaCar(Car) :  #Child class \n",
    "    def __init__(self,name):\n",
    "        self.name = name \n",
    "        \n",
    "car1 = ToyotaCar(\"fortuner\")\n",
    "car2 = ToyotaCar(\"BMW\")\n",
    "\n",
    "#print(car1.name)\n",
    "print(car1.start()) "
   ]
  },
  {
   "cell_type": "code",
   "execution_count": 26,
   "id": "12c7157c-fad1-46c2-8f10-6e2a832781f4",
   "metadata": {},
   "outputs": [
    {
     "name": "stdout",
     "output_type": "stream",
     "text": [
      "car started..\n"
     ]
    }
   ],
   "source": [
    "#2. Multi-level Inheritance\n",
    "class Car:    \n",
    "    @staticmethod \n",
    "    def start():\n",
    "        print(\"car started..\")\n",
    "\n",
    "    @staticmethod \n",
    "    def stop():\n",
    "        print(\"car stopped\")\n",
    "\n",
    "class ToyotaCar(Car) :  \n",
    "    def __init__(self,brand):\n",
    "        self.brand = brand\n",
    "\n",
    "class Fortuner(ToyotaCar):\n",
    "    def __init__(self,type):\n",
    "        self.type = type\n",
    "\n",
    "car1 = Fortuner(\"diesel\")\n",
    "car1.start()"
   ]
  },
  {
   "cell_type": "code",
   "execution_count": 28,
   "id": "18274f1a-0bbd-42c7-a981-6d4497794b42",
   "metadata": {},
   "outputs": [
    {
     "name": "stdout",
     "output_type": "stream",
     "text": [
      "Welcome to class C\n",
      "Welcome to class B\n",
      "Welcome to class A\n"
     ]
    }
   ],
   "source": [
    "#3. Multiple Inheritance\n",
    "class A:\n",
    "    varA = \"Welcome to class A\"\n",
    "\n",
    "class B:\n",
    "    varB = \"Welcome to class B\"\n",
    "\n",
    "class C(A,B):\n",
    "    varC = \"Welcome to class C\"\n",
    "c1 = C()\n",
    "\n",
    "print(c1.varC)\n",
    "print(c1.varB)\n",
    "print(c1.varA)\n"
   ]
  },
  {
   "cell_type": "code",
   "execution_count": 42,
   "id": "0eeee4a3-76b7-4f5e-9409-62464f928b54",
   "metadata": {},
   "outputs": [
    {
     "name": "stdout",
     "output_type": "stream",
     "text": [
      "car started..\n",
      "electric\n"
     ]
    }
   ],
   "source": [
    "#Super method \n",
    "class Car:\n",
    "     def __init__(self,type):\n",
    "        self.type = type\n",
    "     @staticmethod \n",
    "     def start():\n",
    "        print(\"car started..\")\n",
    "\n",
    "     @staticmethod \n",
    "     def stop():\n",
    "        print(\"car stopped\")\n",
    "\n",
    "class ToyotaCar(Car) :  \n",
    "     def __init__(self,name,type):\n",
    "          super().__init__(type)    #Super method  (Calls parent class constructor)\n",
    "          self.name = name\n",
    "          super().start()\n",
    "\n",
    "car1 = ToyotaCar(\"prius\",\"electric\")\n",
    "print(car1.type)"
   ]
  },
  {
   "cell_type": "code",
   "execution_count": 5,
   "id": "f347187d-8648-4e74-8e1f-2cc2e95baa0b",
   "metadata": {},
   "outputs": [
    {
     "name": "stdout",
     "output_type": "stream",
     "text": [
      "Aditya Pangavhane\n",
      "Aditya Pangavhane\n"
     ]
    }
   ],
   "source": [
    "#Class methods \n",
    "class Person :\n",
    "    name = \"anonymous\"\n",
    "\n",
    "    # def changeName(obj,name):\n",
    "    #     self.__class__.name = \"ADI\"\n",
    "    @classmethod\n",
    "    def changeName(cls,name):\n",
    "        cls.name= name\n",
    "p1 = Person()\n",
    "p1.changeName(\"Aditya Pangavhane\")\n",
    "print(p1.name)\n",
    "print(Person.name)"
   ]
  },
  {
   "cell_type": "code",
   "execution_count": 23,
   "id": "cda05d42-09e3-4d77-a70b-c4887e38a9ed",
   "metadata": {},
   "outputs": [
    {
     "name": "stdout",
     "output_type": "stream",
     "text": [
      "91.66666666666667%\n",
      "93.33333333333333%\n"
     ]
    }
   ],
   "source": [
    "#Property decorator \n",
    "class Student :\n",
    "    def __init__(self,phy,chem,math):\n",
    "        self.phy = phy\n",
    "        self.chem = chem\n",
    "        self.math = math\n",
    "        \n",
    "    @property\n",
    "    def percantage(self):\n",
    "        return str((self.phy + self.chem + self.math) / 3) + \"%\"\n",
    "stud1 = Student(89,92,94)\n",
    "print(stud1.percantage)\n",
    "\n",
    "stud1.phy = 94\n",
    "print(stud1.percantage)"
   ]
  },
  {
   "cell_type": "code",
   "execution_count": 33,
   "id": "48f9dafe-c943-45a9-8905-f26b8ae9ac03",
   "metadata": {},
   "outputs": [
    {
     "name": "stdout",
     "output_type": "stream",
     "text": [
      "3\n",
      "apnacollage\n",
      "[1, 2, 3, 4, 5, 6]\n",
      "<class 'int'>\n",
      "<class 'str'>\n",
      "<class 'list'>\n"
     ]
    }
   ],
   "source": [
    "#4 - Polymorphism\n",
    "# Implicit overloading \n",
    "# print( 1 + 2 )\n",
    "# print(\"apna\" + \"collage\" )  #concatenation\n",
    "# print([1,2,3] + [4,5,6])    #merge\n",
    "# print(type(1))\n",
    "# print(type(\"adi\"))\n",
    "# print(type([1,2,3]))\n"
   ]
  },
  {
   "cell_type": "code",
   "execution_count": null,
   "id": "e99a06ce-bef3-4ed6-9ab6-1e196505e878",
   "metadata": {},
   "outputs": [],
   "source": []
  },
  {
   "cell_type": "code",
   "execution_count": null,
   "id": "01341b76-1c68-4a61-861c-77d8501391b4",
   "metadata": {},
   "outputs": [],
   "source": []
  }
 ],
 "metadata": {
  "kernelspec": {
   "display_name": "Python 3 (ipykernel)",
   "language": "python",
   "name": "python3"
  },
  "language_info": {
   "codemirror_mode": {
    "name": "ipython",
    "version": 3
   },
   "file_extension": ".py",
   "mimetype": "text/x-python",
   "name": "python",
   "nbconvert_exporter": "python",
   "pygments_lexer": "ipython3",
   "version": "3.12.4"
  }
 },
 "nbformat": 4,
 "nbformat_minor": 5
}
